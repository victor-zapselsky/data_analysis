{
 "cells": [
  {
   "cell_type": "code",
   "execution_count": 68,
   "id": "ancient-raising",
   "metadata": {},
   "outputs": [],
   "source": [
    "# -*- coding: utf-8 -*-\n",
    "from datetime import datetime, date, timedelta\n",
    "import numpy as np\n",
    "import pandas as pd\n",
    "import matplotlib.pyplot as plt\n",
    "import seaborn as sns\n",
    "from sklearn.cluster import KMeans\n",
    "from sklearn.impute import SimpleImputer\n",
    "from sklearn.preprocessing import StandardScaler\n",
    "from sklearn.pipeline import Pipeline\n",
    "import warnings\n",
    "warnings.filterwarnings(\"ignore\")"
   ]
  },
  {
   "cell_type": "markdown",
   "id": "42b34385",
   "metadata": {},
   "source": [
    "# 0 Пару слов об RFM-анализе\n",
    "**RFM-анализ**– метод исследования особенностей поведения пользователей в процессе покупки,\n",
    "применяемый при сегментации пользователей, основанный на оценке метрик \n",
    "**давности** (R), **частоты** (F) и **суммы затрат на покупки** (M), призванный помочь \n",
    "определить клиентов, приносящих больший оборот продукции, GMV, и своевременно \n",
    "выявить клиентов, которые потенциально могут уйти в отток\n",
    "\n",
    "**Recency** — давность покупки — промежуток времени с момента последней покупки. Клиенты, которые покупали недавно, с большей вероятностью купят снова.\n",
    "\n",
    "**Frequency** — частота покупок — количество покупок за данный период. Вероятность продажи по клиентам будет больше, если человек совершал много покупок.\n",
    "\n",
    "**Monetary** — сумма покупок — сумма всех покупок за данный период. Клиенты, потратившие на покупки большую сумму денег, вероятнее всего потратят снова."
   ]
  },
  {
   "cell_type": "markdown",
   "id": "16bd91c4",
   "metadata": {},
   "source": [
    "## Общее описание задачи: \n",
    "1) провести RFM анализ с целью выявления кластеров пользователей и оценки текущего состояния интернет-магазина.\n",
    "\n",
    "2) дать рекомендиции для дальнейшей работы с этими кластерами пользователей.\n",
    "\n",
    "3) сформировать стратегию коммуникации с каждым из кластеров пользоватей."
   ]
  },
  {
   "cell_type": "markdown",
   "id": "1a031dc6",
   "metadata": {},
   "source": [
    "# Исходные данные для RFM-анализа\n",
    "\n",
    "В качетстве исходных данных будем использовать данные о пользователях из интернет-магазина, сгрупированные по четырем столбцам.\n",
    "\n",
    "**Описание данных:**\n",
    "\n",
    "user_id - id пользователя\n",
    "\n",
    "delta_last_order_date - разница между текущей датой и датой последнего заказа (recency)\n",
    "\n",
    "orders_total - общее число заказов пользователя (Frequency)\n",
    "\n",
    "gmv_total - значение какой-либо целевой метрики (Monetary)"
   ]
  },
  {
   "cell_type": "code",
   "execution_count": 51,
   "id": "critical-angle",
   "metadata": {},
   "outputs": [],
   "source": [
    "data = pd.read_csv('rfm_data (1).csv')"
   ]
  },
  {
   "cell_type": "code",
   "execution_count": 52,
   "id": "included-supervision",
   "metadata": {
    "scrolled": true
   },
   "outputs": [
    {
     "data": {
      "text/html": [
       "<div>\n",
       "<style scoped>\n",
       "    .dataframe tbody tr th:only-of-type {\n",
       "        vertical-align: middle;\n",
       "    }\n",
       "\n",
       "    .dataframe tbody tr th {\n",
       "        vertical-align: top;\n",
       "    }\n",
       "\n",
       "    .dataframe thead th {\n",
       "        text-align: right;\n",
       "    }\n",
       "</style>\n",
       "<table border=\"1\" class=\"dataframe\">\n",
       "  <thead>\n",
       "    <tr style=\"text-align: right;\">\n",
       "      <th></th>\n",
       "      <th>delta_last_order_date</th>\n",
       "      <th>orders_total</th>\n",
       "      <th>gmv_total</th>\n",
       "    </tr>\n",
       "  </thead>\n",
       "  <tbody>\n",
       "    <tr>\n",
       "      <th>count</th>\n",
       "      <td>500000.000000</td>\n",
       "      <td>500000.000000</td>\n",
       "      <td>5.000000e+05</td>\n",
       "    </tr>\n",
       "    <tr>\n",
       "      <th>mean</th>\n",
       "      <td>83.467054</td>\n",
       "      <td>118.049134</td>\n",
       "      <td>2.891969e+09</td>\n",
       "    </tr>\n",
       "    <tr>\n",
       "      <th>std</th>\n",
       "      <td>52.230729</td>\n",
       "      <td>110.094428</td>\n",
       "      <td>4.740971e+09</td>\n",
       "    </tr>\n",
       "    <tr>\n",
       "      <th>min</th>\n",
       "      <td>20.000000</td>\n",
       "      <td>10.000000</td>\n",
       "      <td>1.990450e+05</td>\n",
       "    </tr>\n",
       "    <tr>\n",
       "      <th>25%</th>\n",
       "      <td>43.000000</td>\n",
       "      <td>60.000000</td>\n",
       "      <td>7.174699e+08</td>\n",
       "    </tr>\n",
       "    <tr>\n",
       "      <th>50%</th>\n",
       "      <td>67.000000</td>\n",
       "      <td>96.000000</td>\n",
       "      <td>1.467198e+09</td>\n",
       "    </tr>\n",
       "    <tr>\n",
       "      <th>75%</th>\n",
       "      <td>120.000000</td>\n",
       "      <td>133.000000</td>\n",
       "      <td>3.255968e+09</td>\n",
       "    </tr>\n",
       "    <tr>\n",
       "      <th>max</th>\n",
       "      <td>222.000000</td>\n",
       "      <td>6242.000000</td>\n",
       "      <td>5.389788e+11</td>\n",
       "    </tr>\n",
       "  </tbody>\n",
       "</table>\n",
       "</div>"
      ],
      "text/plain": [
       "       delta_last_order_date   orders_total     gmv_total\n",
       "count          500000.000000  500000.000000  5.000000e+05\n",
       "mean               83.467054     118.049134  2.891969e+09\n",
       "std                52.230729     110.094428  4.740971e+09\n",
       "min                20.000000      10.000000  1.990450e+05\n",
       "25%                43.000000      60.000000  7.174699e+08\n",
       "50%                67.000000      96.000000  1.467198e+09\n",
       "75%               120.000000     133.000000  3.255968e+09\n",
       "max               222.000000    6242.000000  5.389788e+11"
      ]
     },
     "execution_count": 52,
     "metadata": {},
     "output_type": "execute_result"
    }
   ],
   "source": [
    "data.describe()"
   ]
  },
  {
   "cell_type": "code",
   "execution_count": 53,
   "id": "known-quebec",
   "metadata": {},
   "outputs": [
    {
     "data": {
      "text/plain": [
       "Index(['user_id', 'delta_last_order_date', 'orders_total', 'gmv_total'], dtype='object')"
      ]
     },
     "execution_count": 53,
     "metadata": {},
     "output_type": "execute_result"
    }
   ],
   "source": [
    "data.columns"
   ]
  },
  {
   "cell_type": "code",
   "execution_count": 54,
   "id": "dirty-safety",
   "metadata": {
    "scrolled": true
   },
   "outputs": [
    {
     "data": {
      "text/html": [
       "<div>\n",
       "<style scoped>\n",
       "    .dataframe tbody tr th:only-of-type {\n",
       "        vertical-align: middle;\n",
       "    }\n",
       "\n",
       "    .dataframe tbody tr th {\n",
       "        vertical-align: top;\n",
       "    }\n",
       "\n",
       "    .dataframe thead th {\n",
       "        text-align: right;\n",
       "    }\n",
       "</style>\n",
       "<table border=\"1\" class=\"dataframe\">\n",
       "  <thead>\n",
       "    <tr style=\"text-align: right;\">\n",
       "      <th></th>\n",
       "      <th>user_id</th>\n",
       "      <th>delta_last_order_date</th>\n",
       "      <th>orders_total</th>\n",
       "      <th>gmv_total</th>\n",
       "    </tr>\n",
       "  </thead>\n",
       "  <tbody>\n",
       "    <tr>\n",
       "      <th>0</th>\n",
       "      <td>9dea0a456345c6f66337bdb92934f552</td>\n",
       "      <td>80</td>\n",
       "      <td>183</td>\n",
       "      <td>5960359585</td>\n",
       "    </tr>\n",
       "    <tr>\n",
       "      <th>1</th>\n",
       "      <td>8def67d5d76ce2872ac16b7693f10313</td>\n",
       "      <td>189</td>\n",
       "      <td>134</td>\n",
       "      <td>1443155755</td>\n",
       "    </tr>\n",
       "    <tr>\n",
       "      <th>2</th>\n",
       "      <td>389381cff07efe5833fac9ede610fea8</td>\n",
       "      <td>113</td>\n",
       "      <td>132</td>\n",
       "      <td>4799903425</td>\n",
       "    </tr>\n",
       "    <tr>\n",
       "      <th>3</th>\n",
       "      <td>95a4636240488fda6b7f0498de5924ae</td>\n",
       "      <td>64</td>\n",
       "      <td>88</td>\n",
       "      <td>801619045</td>\n",
       "    </tr>\n",
       "    <tr>\n",
       "      <th>4</th>\n",
       "      <td>76978d5e13d9daee315d8d062ed15901</td>\n",
       "      <td>46</td>\n",
       "      <td>21</td>\n",
       "      <td>351221005</td>\n",
       "    </tr>\n",
       "  </tbody>\n",
       "</table>\n",
       "</div>"
      ],
      "text/plain": [
       "                            user_id  delta_last_order_date  orders_total  \\\n",
       "0  9dea0a456345c6f66337bdb92934f552                     80           183   \n",
       "1  8def67d5d76ce2872ac16b7693f10313                    189           134   \n",
       "2  389381cff07efe5833fac9ede610fea8                    113           132   \n",
       "3  95a4636240488fda6b7f0498de5924ae                     64            88   \n",
       "4  76978d5e13d9daee315d8d062ed15901                     46            21   \n",
       "\n",
       "    gmv_total  \n",
       "0  5960359585  \n",
       "1  1443155755  \n",
       "2  4799903425  \n",
       "3   801619045  \n",
       "4   351221005  "
      ]
     },
     "execution_count": 54,
     "metadata": {},
     "output_type": "execute_result"
    }
   ],
   "source": [
    "data[['user_id', 'delta_last_order_date', 'orders_total', 'gmv_total']].head()"
   ]
  },
  {
   "cell_type": "markdown",
   "id": "54744410",
   "metadata": {},
   "source": [
    "Переименуем колонки **delta_last_order_date,orders_total,gmv_total** в более понятный нам вид."
   ]
  },
  {
   "cell_type": "code",
   "execution_count": 55,
   "id": "necessary-laugh",
   "metadata": {},
   "outputs": [],
   "source": [
    "data = data.rename(columns={'delta_last_order_date': 'Recency',\n",
    "                            'orders_total': 'Frequency', \n",
    "                            'gmv_total': 'Monetory'})"
   ]
  },
  {
   "cell_type": "markdown",
   "id": "39c0cc54",
   "metadata": {},
   "source": [
    "Построим гистограммы и посмотрим какие распределение имют наши данные."
   ]
  },
  {
   "cell_type": "code",
   "execution_count": 56,
   "id": "lightweight-armstrong",
   "metadata": {},
   "outputs": [
    {
     "data": {
      "image/png": "[encoded data removed]",
      "text/plain": [
       "<Figure size 864x864 with 3 Axes>"
      ]
     },
     "metadata": {},
     "output_type": "display_data"
    }
   ],
   "source": [
    "plt.figure(figsize=(12,12))\n",
    "plt.subplot(311)\n",
    "data['Recency'].hist(bins=40, alpha=0.8, label='Value', edgecolor='white', linewidth=2)\n",
    "plt.ylabel('Recency')\n",
    "plt.subplot(312)\n",
    "data['Frequency'].hist(bins=40, color = 'green', alpha=0.8, label='Value', edgecolor='white', linewidth=2)\n",
    "plt.ylabel('Frequency')\n",
    "plt.subplot(313)\n",
    "data['Monetory'].hist(bins=40, color = 'yellow', alpha=0.8, label='Value', edgecolor='white', linewidth=2)\n",
    "plt.ylabel('Monetory')\n",
    "plt.show()"
   ]
  },
  {
   "cell_type": "markdown",
   "id": "752e9221",
   "metadata": {},
   "source": [
    "Из анализа гистограмм видно, что данные приближены к **экспоненциальному распределению**"
   ]
  },
  {
   "cell_type": "markdown",
   "id": "pleased-connection",
   "metadata": {},
   "source": [
    "## Реализуем 2 варианта:\n",
    "Для решения задачи будем использовать два варианта кластеризации.\n",
    "\n",
    "Первый - классический квантильный RFM.\n",
    "\n",
    "Второй - с применением алгоритма KMeans. \n",
    "### 1. Квантильный RFM:\n",
    "\n",
    "Для реализации квантильного RFM будем использовать 4 кластера каждой метрики, т.е. разделим пользователей по каждой метрики на 0.25,0.5,0.75 и 1.0 квантили cоответственно. После чего проведем кластеризацию и добавим метки кластеров к нашему датафрейму, также добавим стобцы RFM_Segment (RFM) и RFM_Score (F + R + M) и проанализируем их показатели."
   ]
  },
  {
   "cell_type": "code",
   "execution_count": 57,
   "id": "minor-freeware",
   "metadata": {
    "code_folding": []
   },
   "outputs": [],
   "source": [
    "def rfm_quantile(rfm_data: pd.DataFrame() = None, metrics: list() = None, q: int = 4):\n",
    "    if rfm_data is None:\n",
    "        return None\n",
    "    if metrics is None:\n",
    "        metrics = rfm_data.columns[1:]\n",
    "    Recency, Frequency, Monetary = metrics\n",
    "    rfm_data[metrics] = rfm_data[metrics].dropna().astype('int64')\n",
    "\n",
    "    labels = range(q, 0, -1)\n",
    "    rfm_data['R'] = pd.qcut(rfm_data[Recency], q=q, labels=labels).values\n",
    "    rfm_data['F'] = pd.qcut(rfm_data[Frequency], q=q, labels=labels[::-1]).values\n",
    "    rfm_data['M'] = pd.qcut(rfm_data[Monetary], q=q, labels=labels[::-1]).values\n",
    "    rfm_data['RFM_Segment'] = rfm_data.apply(lambda x: str(x['R']) +\n",
    "                                                       str(x['F']) +\n",
    "                                                       str(x['M']), axis=1)\n",
    "    rfm_data['RFM_Score'] = rfm_data[['R', 'F', 'M']].sum(axis=1)\n",
    "    return rfm_data"
   ]
  },
  {
   "cell_type": "code",
   "execution_count": 58,
   "id": "virgin-harmony",
   "metadata": {},
   "outputs": [],
   "source": [
    "rfm_result = rfm_quantile(data, metrics = ['Recency', 'Frequency', 'Monetory'], q = 4)"
   ]
  },
  {
   "cell_type": "code",
   "execution_count": 59,
   "id": "electronic-catalyst",
   "metadata": {},
   "outputs": [
    {
     "data": {
      "text/html": [
       "<div>\n",
       "<style scoped>\n",
       "    .dataframe tbody tr th:only-of-type {\n",
       "        vertical-align: middle;\n",
       "    }\n",
       "\n",
       "    .dataframe tbody tr th {\n",
       "        vertical-align: top;\n",
       "    }\n",
       "\n",
       "    .dataframe thead th {\n",
       "        text-align: right;\n",
       "    }\n",
       "</style>\n",
       "<table border=\"1\" class=\"dataframe\">\n",
       "  <thead>\n",
       "    <tr style=\"text-align: right;\">\n",
       "      <th></th>\n",
       "      <th>user_id</th>\n",
       "      <th>Recency</th>\n",
       "      <th>Frequency</th>\n",
       "      <th>Monetory</th>\n",
       "      <th>R</th>\n",
       "      <th>F</th>\n",
       "      <th>M</th>\n",
       "      <th>RFM_Segment</th>\n",
       "      <th>RFM_Score</th>\n",
       "    </tr>\n",
       "  </thead>\n",
       "  <tbody>\n",
       "    <tr>\n",
       "      <th>0</th>\n",
       "      <td>9dea0a456345c6f66337bdb92934f552</td>\n",
       "      <td>80</td>\n",
       "      <td>183</td>\n",
       "      <td>5960359585</td>\n",
       "      <td>2</td>\n",
       "      <td>4</td>\n",
       "      <td>4</td>\n",
       "      <td>244</td>\n",
       "      <td>10</td>\n",
       "    </tr>\n",
       "    <tr>\n",
       "      <th>1</th>\n",
       "      <td>8def67d5d76ce2872ac16b7693f10313</td>\n",
       "      <td>189</td>\n",
       "      <td>134</td>\n",
       "      <td>1443155755</td>\n",
       "      <td>1</td>\n",
       "      <td>4</td>\n",
       "      <td>2</td>\n",
       "      <td>142</td>\n",
       "      <td>7</td>\n",
       "    </tr>\n",
       "    <tr>\n",
       "      <th>2</th>\n",
       "      <td>389381cff07efe5833fac9ede610fea8</td>\n",
       "      <td>113</td>\n",
       "      <td>132</td>\n",
       "      <td>4799903425</td>\n",
       "      <td>2</td>\n",
       "      <td>3</td>\n",
       "      <td>4</td>\n",
       "      <td>234</td>\n",
       "      <td>9</td>\n",
       "    </tr>\n",
       "    <tr>\n",
       "      <th>3</th>\n",
       "      <td>95a4636240488fda6b7f0498de5924ae</td>\n",
       "      <td>64</td>\n",
       "      <td>88</td>\n",
       "      <td>801619045</td>\n",
       "      <td>3</td>\n",
       "      <td>2</td>\n",
       "      <td>2</td>\n",
       "      <td>322</td>\n",
       "      <td>7</td>\n",
       "    </tr>\n",
       "    <tr>\n",
       "      <th>4</th>\n",
       "      <td>76978d5e13d9daee315d8d062ed15901</td>\n",
       "      <td>46</td>\n",
       "      <td>21</td>\n",
       "      <td>351221005</td>\n",
       "      <td>3</td>\n",
       "      <td>1</td>\n",
       "      <td>1</td>\n",
       "      <td>311</td>\n",
       "      <td>5</td>\n",
       "    </tr>\n",
       "  </tbody>\n",
       "</table>\n",
       "</div>"
      ],
      "text/plain": [
       "                            user_id  Recency  Frequency    Monetory  R  F  M  \\\n",
       "0  9dea0a456345c6f66337bdb92934f552       80        183  5960359585  2  4  4   \n",
       "1  8def67d5d76ce2872ac16b7693f10313      189        134  1443155755  1  4  2   \n",
       "2  389381cff07efe5833fac9ede610fea8      113        132  4799903425  2  3  4   \n",
       "3  95a4636240488fda6b7f0498de5924ae       64         88   801619045  3  2  2   \n",
       "4  76978d5e13d9daee315d8d062ed15901       46         21   351221005  3  1  1   \n",
       "\n",
       "  RFM_Segment  RFM_Score  \n",
       "0         244         10  \n",
       "1         142          7  \n",
       "2         234          9  \n",
       "3         322          7  \n",
       "4         311          5  "
      ]
     },
     "execution_count": 59,
     "metadata": {},
     "output_type": "execute_result"
    }
   ],
   "source": [
    "rfm_result.head()"
   ]
  },
  {
   "cell_type": "code",
   "execution_count": 60,
   "id": "looking-balloon",
   "metadata": {},
   "outputs": [],
   "source": [
    "rfm = rfm_result[['RFM_Score', 'user_id']].groupby(['RFM_Score']).user_id.nunique().reset_index().rename({'user_id': 'users'}, axis = 1)"
   ]
  },
  {
   "cell_type": "markdown",
   "id": "2c1fd9b2",
   "metadata": {},
   "source": [
    "Построим гистограмму распределния RFM_Score."
   ]
  },
  {
   "cell_type": "code",
   "execution_count": 61,
   "id": "durable-biodiversity",
   "metadata": {
    "scrolled": true
   },
   "outputs": [
    {
     "data": {
      "text/plain": [
       "<AxesSubplot:xlabel='RFM_Score', ylabel='users'>"
      ]
     },
     "execution_count": 61,
     "metadata": {},
     "output_type": "execute_result"
    },
    {
     "data": {
      "image/png": "[encoded data removed]",
      "text/plain": [
       "<Figure size 576x396 with 1 Axes>"
      ]
     },
     "metadata": {},
     "output_type": "display_data"
    }
   ],
   "source": [
    "sns.barplot(data = rfm, x = 'RFM_Score', y = 'users', palette = \"rocket\")"
   ]
  },
  {
   "cell_type": "markdown",
   "id": "6e0fe6db",
   "metadata": {},
   "source": [
    "Из анализа гистограммы видим, что количество пользователей с R=F=M=1 мало, что хорошо для нас, то есть в нашем магазине мало пользователей, которые имеют низкую частоту заказов, высокий показатель давности заказа и низкую целевую метрику.\n",
    "\n",
    "Наибольшее количество пользователей имеют RFM_Score=6, что является средним значением по данной метрике. Однако стоит обратить внимание на этих пользователей и создать им условия для перехода в 7 и последующие группы.\n",
    "\n",
    "По мере увелечения метрики RFM_Score количество пользователей уменьшается, но большее количество пользователей находится за средним значением RFM_Score. Это является положительным фактором для нашего интернет-магазина.\n",
    "\n",
    "Посмотрим как распределены пользователи по сегментам. "
   ]
  },
  {
   "cell_type": "code",
   "execution_count": 62,
   "id": "engaging-insulin",
   "metadata": {},
   "outputs": [],
   "source": [
    "rfm_aggr = rfm_result[['user_id', 'R', 'F']].groupby(['R', 'F']).user_id.nunique().reset_index()\n",
    "rfm_pivot = rfm_aggr.pivot(values = 'user_id', index='R', columns='F')"
   ]
  },
  {
   "cell_type": "code",
   "execution_count": 63,
   "id": "corporate-anime",
   "metadata": {},
   "outputs": [
    {
     "data": {
      "text/plain": [
       "<AxesSubplot:xlabel='F', ylabel='R'>"
      ]
     },
     "execution_count": 63,
     "metadata": {},
     "output_type": "execute_result"
    },
    {
     "data": {
      "image/png": "[encoded data removed]",
      "text/plain": [
       "<Figure size 576x396 with 2 Axes>"
      ]
     },
     "metadata": {},
     "output_type": "display_data"
    }
   ],
   "source": [
    "sns.heatmap(rfm_pivot, annot=True, fmt=\".0f\")"
   ]
  },
  {
   "cell_type": "code",
   "execution_count": 64,
   "id": "supposed-installation",
   "metadata": {},
   "outputs": [
    {
     "data": {
      "text/plain": [
       "<AxesSubplot:xlabel='F', ylabel='R'>"
      ]
     },
     "execution_count": 64,
     "metadata": {},
     "output_type": "execute_result"
    },
    {
     "data": {
      "image/png": "[encoded data removed]",
      "text/plain": [
       "<Figure size 576x396 with 2 Axes>"
      ]
     },
     "metadata": {},
     "output_type": "display_data"
    }
   ],
   "source": [
    "rfm_aggr['users_share'] = rfm_aggr['user_id']*1.0/rfm_aggr['user_id'].sum()*100.0\n",
    "sns.heatmap(rfm_aggr.pivot(values = 'users_share', index='R', columns='F'), annot=True, fmt=\".3g\")"
   ]
  },
  {
   "cell_type": "markdown",
   "id": "adfae6a0",
   "metadata": {},
   "source": [
    "Из анализа карты пользователей выделим следующие группы и дадим рекомендации для дальнейшей работы с ними: \n",
    "\n",
    "**Отток** - это пользователи, имеющие R=4 и F=1, т.е. они давно заходили в наш магазин и имели мало заказов. Видим, что таких пользователей **~5%**. Это не особо высоких показатель, поэтому отток пользователей не является большим. Однако, менеджеру можно поработать над этими людьми для уменьшения кол-ва данных пользователей.\n",
    "\n",
    "**Риск**- пользователи имеющие R=3 и F=1. Видно, что их также **~5%**. Для уменьшения доли этих пользователей следуюет рассказать их о наших новых акциях, новых продуктах, т.е. постараться вернуть их обратно и не дать им перейти в группу \"оттока\".\n",
    "\n",
    "**Лояльные**-пользователи имеющие R=2 и 1 , F=1. Это пользователи, которые часто посещают наш магазин, но недостаточно часто совершают покупки, если сравнивать с “перспективными” клиентами. Видим, что таких пользователей **~15%**. Таким образом,для увелечения продаж мы можем больше продвигать наш продукт и выпускать более красивый упаковочный продукт.\n",
    "\n",
    "**Спящие**-пользователи, которые давольно часто пользовались нашим магазином в прошлом. Доля таких пользователей составляет **~20%**. Следует разослать им пуш уведомления о предстоящих акциях, так как есть вероятность, что они вернуться в наш магазин, так как раньше часто покупали здесь.\n",
    "\n",
    "**Перспективные**-пользователи имеющие R=1 F=2;R=1 F=3;R=2 F=2,R=2 F=3;R=3,F=3;R=3 F=2;R=3 F=4. Данная группа пользователей является наиболее большой и составляет **~50%** от всех пользователей. В дальнейшем мы надеемся, что эти люди станут нашими постоянными клиентами, поэтому стоит уделить им особое внимание. Так как они уже покупали наши продукты, мы можем связаться с ними и предложить какой-либо подарок или предоставить бесплатное обслуживание в течение определнного времени.\n",
    "\n",
    "**Новые** - пользователи имеющие R=1,2 F=4. Видно, что таких клиентов практически нет, что является нехорошим моментом. Необходимо обратиться к менеджеру по работе с рекламой и сообщить о том, что в наш интернет магазин практически не заходят новые пользователи. После чего сформировать/пересмотреть реклманую компанию.\n"
   ]
  },
  {
   "cell_type": "code",
   "execution_count": 65,
   "id": "8eada0c7",
   "metadata": {},
   "outputs": [
    {
     "data": {
      "text/plain": [
       "<AxesSubplot:xlabel='M', ylabel='R'>"
      ]
     },
     "execution_count": 65,
     "metadata": {},
     "output_type": "execute_result"
    },
    {
     "data": {
      "image/png": "[encoded data removed]",
      "text/plain": [
       "<Figure size 576x396 with 2 Axes>"
      ]
     },
     "metadata": {},
     "output_type": "display_data"
    }
   ],
   "source": [
    "rfm_aggr = rfm_result[['user_id', 'R', 'M']].groupby(['R', 'M']).user_id.nunique().reset_index()\n",
    "rfm_pivot = rfm_aggr.pivot(values = 'user_id', index='R', columns='M')\n",
    "#sns.heatmap(rfm_pivot, annot=True, fmt=\".0f\")\n",
    "rfm_aggr['users_share'] = rfm_aggr['user_id']*1.0/rfm_aggr['user_id'].sum()*100.0\n",
    "sns.heatmap(rfm_aggr.pivot(values = 'users_share', index='R', columns='M'), annot=True, fmt=\".3g\")"
   ]
  },
  {
   "cell_type": "markdown",
   "id": "3ae738a6",
   "metadata": {},
   "source": [
    "RM анализ: \n",
    "\n",
    "-кластер пользователей, приносящий высокую прибль достаточно высок (~25%), причем эти пользователи совершают покупки часто (R=3,4)\n",
    "\n",
    "-имеется группа пользователей с низким показателей прибыли и редкой частотой покупки R=M1 (~10%)\n",
    "\n",
    "-так же есть группа пользователей (~20%), которые вносят средний вклад в прибль.\n",
    "\n",
    "Из RM анализа можно сделать вывод, что имеется достаточно большое кол-во пользователей, делающие покупки регуляно на большие чеки, также есть группа пользователей, которые не вносят большого вклада в общуюю прибль."
   ]
  },
  {
   "cell_type": "code",
   "execution_count": 67,
   "id": "c63c0eed",
   "metadata": {},
   "outputs": [
    {
     "data": {
      "text/plain": [
       "<AxesSubplot:xlabel='M', ylabel='F'>"
      ]
     },
     "execution_count": 67,
     "metadata": {},
     "output_type": "execute_result"
    },
    {
     "data": {
      "image/png": "[encoded data removed]",
      "text/plain": [
       "<Figure size 576x396 with 2 Axes>"
      ]
     },
     "metadata": {},
     "output_type": "display_data"
    }
   ],
   "source": [
    "rfm_aggr = rfm_result[['user_id', 'F', 'M']].groupby(['F', 'M']).user_id.nunique().reset_index()\n",
    "rfm_pivot = rfm_aggr.pivot(values = 'user_id', index='F', columns='M')\n",
    "#sns.heatmap(rfm_pivot, annot=True, fmt=\".0f\")\n",
    "rfm_aggr['users_share'] = rfm_aggr['user_id']*1.0/rfm_aggr['user_id'].sum()*100.0\n",
    "sns.heatmap(rfm_aggr.pivot(values = 'users_share', index='F', columns='M'), annot=True, fmt=\".3g\")"
   ]
  },
  {
   "cell_type": "markdown",
   "id": "81892273",
   "metadata": {},
   "source": [
    "FM анализ:\n",
    "\n",
    "-преобладает группа людей (~18%), которые покупаю часто, на маленькие чеки\n",
    "\n",
    "-чуть меньше пользователей (~11%), которые покупают редно, но на большие чеки\n",
    "\n",
    "Из FM анализа видно, что в нашем магазине имеются разные типы пользователей, что следует учитывать при дальнейшей маркетинговой стратегии."
   ]
  },
  {
   "cell_type": "markdown",
   "id": "perfect-texas",
   "metadata": {},
   "source": [
    "### 2. RFM при помощи kmeans:\n",
    "\n",
    "Реализуем RFM анализ при помощи kmeans. Но перед этим проведем мнимальную предварительную обработку данных: отмасштабируем данные и выполним их нормализацию. После чего определим количество кластеров для данных и выполним кластеризацию по каждой метрике."
   ]
  },
  {
   "cell_type": "markdown",
   "id": "powerful-freedom",
   "metadata": {},
   "source": [
    "### 2.1. Масштабирование данных:"
   ]
  },
  {
   "cell_type": "code",
   "execution_count": 27,
   "id": "widespread-startup",
   "metadata": {
    "code_folding": [
     0
    ]
   },
   "outputs": [],
   "source": [
    "def scale_data(X_train: pd.DataFrame() = None, \n",
    "               metrics: list() = None):\n",
    "    if X_train is None:\n",
    "        return None\n",
    "    if metrics is None:\n",
    "        metrics = X_train.columns[1:]\n",
    "    Recency, Frequency, Monetary = metrics  \n",
    "    X_train_scaled = X_train.copy(deep=True)\n",
    "    X_train_scaled[metrics[1:]] = X_train_scaled[metrics[1:]].dropna().astype('int64')\n",
    "\n",
    "    adjust_to_uno = lambda item: 1 if item <= 0 else item\n",
    "    X_train_scaled[Recency] = X_train_scaled[Recency].apply(adjust_to_uno)\n",
    "    X_train_scaled[Monetary] = X_train_scaled[Monetary].apply(adjust_to_uno)\n",
    "    X_train_scaled[metrics] = X_train_scaled[metrics].apply(np.log, axis=1).round(3)\n",
    "    return X_train_scaled"
   ]
  },
  {
   "cell_type": "code",
   "execution_count": 28,
   "id": "going-andrews",
   "metadata": {},
   "outputs": [],
   "source": [
    "data_transformed = scale_data(data[['user_id', 'Recency', 'Frequency', 'Monetory']])"
   ]
  },
  {
   "cell_type": "code",
   "execution_count": 29,
   "id": "sublime-murray",
   "metadata": {},
   "outputs": [
    {
     "data": {
      "image/png": "[encoded data removed]",
      "text/plain": [
       "<Figure size 864x864 with 3 Axes>"
      ]
     },
     "metadata": {
      "needs_background": "light"
     },
     "output_type": "display_data"
    }
   ],
   "source": [
    "plt.figure(figsize=(12,12))\n",
    "plt.subplot(311)\n",
    "data_transformed['Recency'].hist(bins=40, alpha=0.8, label='Value', edgecolor='white', linewidth=2)\n",
    "plt.ylabel('Recency')\n",
    "plt.subplot(312)\n",
    "data_transformed['Frequency'].hist(bins=40, color = 'green', alpha=0.8, label='Value', edgecolor='white', linewidth=2)\n",
    "plt.ylabel('Frequency')\n",
    "plt.subplot(313)\n",
    "data_transformed['Monetory'].hist(bins=40, color = 'yellow', alpha=0.8, label='Value', edgecolor='white', linewidth=2)\n",
    "plt.ylabel('Monetory')\n",
    "plt.show()"
   ]
  },
  {
   "cell_type": "markdown",
   "id": "intermediate-brisbane",
   "metadata": {},
   "source": [
    "### 2.2. Нормализация данных:"
   ]
  },
  {
   "cell_type": "code",
   "execution_count": 30,
   "id": "precise-style",
   "metadata": {
    "code_folding": [
     0
    ]
   },
   "outputs": [],
   "source": [
    "def normalize_data(X_train: pd.DataFrame() = None, metrics: list() = None, name: str = ''):\n",
    "    if X_train is None:\n",
    "        return None\n",
    "    if metrics is None:\n",
    "        metrics = X_train.columns[1:]\n",
    "    X_train_scaled = X_train.copy(deep=True)\n",
    "    X_train_scaled[metrics] = X_train_scaled[metrics].astype('int64')\n",
    "\n",
    "    imputer = SimpleImputer(missing_values=np.nan, strategy='median')\n",
    "    scaler = StandardScaler() \n",
    "    pipe = Pipeline([('imputer', imputer), ('scaler', scaler)])\n",
    "\n",
    "    X_train_scaled[metrics] = pd.DataFrame(data=pipe.fit_transform(X_train_scaled[metrics]),\n",
    "                                               columns=metrics)\n",
    "    return X_train_scaled"
   ]
  },
  {
   "cell_type": "code",
   "execution_count": 31,
   "id": "stainless-burden",
   "metadata": {},
   "outputs": [],
   "source": [
    "data_transformed = normalize_data(data_transformed[['user_id', 'Recency', 'Frequency', 'Monetory']])"
   ]
  },
  {
   "cell_type": "code",
   "execution_count": 32,
   "id": "elegant-salem",
   "metadata": {},
   "outputs": [
    {
     "data": {
      "text/html": [
       "<div>\n",
       "<style scoped>\n",
       "    .dataframe tbody tr th:only-of-type {\n",
       "        vertical-align: middle;\n",
       "    }\n",
       "\n",
       "    .dataframe tbody tr th {\n",
       "        vertical-align: top;\n",
       "    }\n",
       "\n",
       "    .dataframe thead th {\n",
       "        text-align: right;\n",
       "    }\n",
       "</style>\n",
       "<table border=\"1\" class=\"dataframe\">\n",
       "  <thead>\n",
       "    <tr style=\"text-align: right;\">\n",
       "      <th></th>\n",
       "      <th>Recency</th>\n",
       "      <th>Frequency</th>\n",
       "      <th>Monetory</th>\n",
       "    </tr>\n",
       "  </thead>\n",
       "  <tbody>\n",
       "    <tr>\n",
       "      <th>count</th>\n",
       "      <td>5.000000e+05</td>\n",
       "      <td>5.000000e+05</td>\n",
       "      <td>5.000000e+05</td>\n",
       "    </tr>\n",
       "    <tr>\n",
       "      <th>mean</th>\n",
       "      <td>4.668808e-15</td>\n",
       "      <td>-1.741877e-15</td>\n",
       "      <td>-3.344933e-16</td>\n",
       "    </tr>\n",
       "    <tr>\n",
       "      <th>std</th>\n",
       "      <td>1.000001e+00</td>\n",
       "      <td>1.000001e+00</td>\n",
       "      <td>1.000001e+00</td>\n",
       "    </tr>\n",
       "    <tr>\n",
       "      <th>min</th>\n",
       "      <td>-2.485259e+00</td>\n",
       "      <td>-2.583610e+00</td>\n",
       "      <td>-7.867663e+00</td>\n",
       "    </tr>\n",
       "    <tr>\n",
       "      <th>25%</th>\n",
       "      <td>-1.049644e+00</td>\n",
       "      <td>2.131086e-02</td>\n",
       "      <td>-6.130342e-01</td>\n",
       "    </tr>\n",
       "    <tr>\n",
       "      <th>50%</th>\n",
       "      <td>3.859709e-01</td>\n",
       "      <td>2.131086e-02</td>\n",
       "      <td>2.937943e-01</td>\n",
       "    </tr>\n",
       "    <tr>\n",
       "      <th>75%</th>\n",
       "      <td>3.859709e-01</td>\n",
       "      <td>2.131086e-02</td>\n",
       "      <td>2.937943e-01</td>\n",
       "    </tr>\n",
       "    <tr>\n",
       "      <th>max</th>\n",
       "      <td>1.821586e+00</td>\n",
       "      <td>5.231154e+00</td>\n",
       "      <td>5.734766e+00</td>\n",
       "    </tr>\n",
       "  </tbody>\n",
       "</table>\n",
       "</div>"
      ],
      "text/plain": [
       "            Recency     Frequency      Monetory\n",
       "count  5.000000e+05  5.000000e+05  5.000000e+05\n",
       "mean   4.668808e-15 -1.741877e-15 -3.344933e-16\n",
       "std    1.000001e+00  1.000001e+00  1.000001e+00\n",
       "min   -2.485259e+00 -2.583610e+00 -7.867663e+00\n",
       "25%   -1.049644e+00  2.131086e-02 -6.130342e-01\n",
       "50%    3.859709e-01  2.131086e-02  2.937943e-01\n",
       "75%    3.859709e-01  2.131086e-02  2.937943e-01\n",
       "max    1.821586e+00  5.231154e+00  5.734766e+00"
      ]
     },
     "execution_count": 32,
     "metadata": {},
     "output_type": "execute_result"
    }
   ],
   "source": [
    "data_transformed.describe()"
   ]
  },
  {
   "cell_type": "code",
   "execution_count": 33,
   "id": "charming-assurance",
   "metadata": {},
   "outputs": [
    {
     "data": {
      "image/png": "[encoded data removed]",
      "text/plain": [
       "<Figure size 864x864 with 3 Axes>"
      ]
     },
     "metadata": {
      "needs_background": "light"
     },
     "output_type": "display_data"
    }
   ],
   "source": [
    "plt.figure(figsize=(12,12))\n",
    "plt.subplot(311)\n",
    "data_transformed['Recency'].hist(bins=40, alpha=0.8, label='Value', edgecolor='white', linewidth=2)\n",
    "plt.ylabel('Recency')\n",
    "plt.subplot(312)\n",
    "data_transformed['Frequency'].hist(bins=40, color = 'green', alpha=0.8, label='Value', edgecolor='white', linewidth=2)\n",
    "plt.ylabel('Frequency')\n",
    "plt.subplot(313)\n",
    "data_transformed['Monetory'].hist(bins=40, color = 'yellow', alpha=0.8, label='Value', edgecolor='white', linewidth=2)\n",
    "plt.ylabel('Monetory')\n",
    "plt.show()"
   ]
  },
  {
   "cell_type": "code",
   "execution_count": 34,
   "id": "a68c8ad2",
   "metadata": {},
   "outputs": [
    {
     "data": {
      "text/html": [
       "<div>\n",
       "<style scoped>\n",
       "    .dataframe tbody tr th:only-of-type {\n",
       "        vertical-align: middle;\n",
       "    }\n",
       "\n",
       "    .dataframe tbody tr th {\n",
       "        vertical-align: top;\n",
       "    }\n",
       "\n",
       "    .dataframe thead th {\n",
       "        text-align: right;\n",
       "    }\n",
       "</style>\n",
       "<table border=\"1\" class=\"dataframe\">\n",
       "  <thead>\n",
       "    <tr style=\"text-align: right;\">\n",
       "      <th></th>\n",
       "      <th>user_id</th>\n",
       "      <th>Recency</th>\n",
       "      <th>Frequency</th>\n",
       "      <th>Monetory</th>\n",
       "    </tr>\n",
       "  </thead>\n",
       "  <tbody>\n",
       "    <tr>\n",
       "      <th>0</th>\n",
       "      <td>9dea0a456345c6f66337bdb92934f552</td>\n",
       "      <td>0.385971</td>\n",
       "      <td>1.323772</td>\n",
       "      <td>1.200623</td>\n",
       "    </tr>\n",
       "    <tr>\n",
       "      <th>1</th>\n",
       "      <td>8def67d5d76ce2872ac16b7693f10313</td>\n",
       "      <td>1.821586</td>\n",
       "      <td>0.021311</td>\n",
       "      <td>0.293794</td>\n",
       "    </tr>\n",
       "    <tr>\n",
       "      <th>2</th>\n",
       "      <td>389381cff07efe5833fac9ede610fea8</td>\n",
       "      <td>0.385971</td>\n",
       "      <td>0.021311</td>\n",
       "      <td>1.200623</td>\n",
       "    </tr>\n",
       "    <tr>\n",
       "      <th>3</th>\n",
       "      <td>95a4636240488fda6b7f0498de5924ae</td>\n",
       "      <td>0.385971</td>\n",
       "      <td>0.021311</td>\n",
       "      <td>-0.613034</td>\n",
       "    </tr>\n",
       "    <tr>\n",
       "      <th>4</th>\n",
       "      <td>76978d5e13d9daee315d8d062ed15901</td>\n",
       "      <td>-1.049644</td>\n",
       "      <td>-1.281150</td>\n",
       "      <td>-1.519863</td>\n",
       "    </tr>\n",
       "  </tbody>\n",
       "</table>\n",
       "</div>"
      ],
      "text/plain": [
       "                            user_id   Recency  Frequency  Monetory\n",
       "0  9dea0a456345c6f66337bdb92934f552  0.385971   1.323772  1.200623\n",
       "1  8def67d5d76ce2872ac16b7693f10313  1.821586   0.021311  0.293794\n",
       "2  389381cff07efe5833fac9ede610fea8  0.385971   0.021311  1.200623\n",
       "3  95a4636240488fda6b7f0498de5924ae  0.385971   0.021311 -0.613034\n",
       "4  76978d5e13d9daee315d8d062ed15901 -1.049644  -1.281150 -1.519863"
      ]
     },
     "execution_count": 34,
     "metadata": {},
     "output_type": "execute_result"
    }
   ],
   "source": [
    "data_transformed.head()"
   ]
  },
  {
   "cell_type": "markdown",
   "id": "accomplished-hybrid",
   "metadata": {},
   "source": [
    "### 2.3. Определение количества кластеров"
   ]
  },
  {
   "cell_type": "code",
   "execution_count": 35,
   "id": "perceived-speaking",
   "metadata": {
    "code_folding": [
     0
    ]
   },
   "outputs": [],
   "source": [
    "def wcss(rfm_data: pd.DataFrame() = None, metrics: list() = None):\n",
    "    if rfm_data is None:\n",
    "        return None\n",
    "    if metrics is None:\n",
    "        metrics = rfm_data.columns\n",
    "\n",
    "    wcss = {}\n",
    "    for k in range(1, 11):\n",
    "        kmeans = KMeans(n_clusters=k, init='k-means++', max_iter=300)\n",
    "        kmeans.fit(rfm_data)\n",
    "        wcss[k] = kmeans.inertia_\n",
    "    # plot the WCSS values\n",
    "    sns.pointplot(x=list(wcss.keys()), y=list(wcss.values()))\n",
    "    plt.xlabel('K Numbers')\n",
    "    plt.ylabel('WCSS')\n",
    "    plt.show()\n",
    "    return"
   ]
  },
  {
   "cell_type": "code",
   "execution_count": 36,
   "id": "composite-seminar",
   "metadata": {},
   "outputs": [
    {
     "data": {
      "image/png": "[encoded data removed]",
      "text/plain": [
       "<Figure size 432x288 with 1 Axes>"
      ]
     },
     "metadata": {
      "needs_background": "light"
     },
     "output_type": "display_data"
    }
   ],
   "source": [
    "wcss(data[['Recency', 'Frequency', 'Monetory']])"
   ]
  },
  {
   "cell_type": "markdown",
   "id": "communist-brass",
   "metadata": {},
   "source": [
    "### 2.4. Определение количества кластеров при помощи билиотеки YellowBrick:"
   ]
  },
  {
   "cell_type": "code",
   "execution_count": 148,
   "id": "optimum-intersection",
   "metadata": {},
   "outputs": [
    {
     "name": "stdout",
     "output_type": "stream",
     "text": [
      "Requirement already satisfied: yellowbrick in c:\\users\\vitya\\anaconda3\\lib\\site-packages (1.3.post1)\n",
      "Requirement already satisfied: numpy<1.20,>=1.16.0 in c:\\users\\vitya\\anaconda3\\lib\\site-packages (from yellowbrick) (1.19.5)\n",
      "Requirement already satisfied: scikit-learn>=0.20 in c:\\users\\vitya\\anaconda3\\lib\\site-packages (from yellowbrick) (0.24.1)\n",
      "Requirement already satisfied: matplotlib!=3.0.0,>=2.0.2 in c:\\users\\vitya\\anaconda3\\lib\\site-packages (from yellowbrick) (3.3.4)\n",
      "Requirement already satisfied: scipy>=1.0.0 in c:\\users\\vitya\\anaconda3\\lib\\site-packages (from yellowbrick) (1.6.2)\n",
      "Requirement already satisfied: cycler>=0.10.0 in c:\\users\\vitya\\anaconda3\\lib\\site-packages (from yellowbrick) (0.10.0)\n",
      "Requirement already satisfied: six in c:\\users\\vitya\\anaconda3\\lib\\site-packages (from cycler>=0.10.0->yellowbrick) (1.15.0)\n",
      "Requirement already satisfied: kiwisolver>=1.0.1 in c:\\users\\vitya\\anaconda3\\lib\\site-packages (from matplotlib!=3.0.0,>=2.0.2->yellowbrick) (1.3.1)\n",
      "Requirement already satisfied: python-dateutil>=2.1 in c:\\users\\vitya\\anaconda3\\lib\\site-packages (from matplotlib!=3.0.0,>=2.0.2->yellowbrick) (2.8.1)\n",
      "Requirement already satisfied: pyparsing!=2.0.4,!=2.1.2,!=2.1.6,>=2.0.3 in c:\\users\\vitya\\anaconda3\\lib\\site-packages (from matplotlib!=3.0.0,>=2.0.2->yellowbrick) (2.4.7)\n",
      "Requirement already satisfied: pillow>=6.2.0 in c:\\users\\vitya\\anaconda3\\lib\\site-packages (from matplotlib!=3.0.0,>=2.0.2->yellowbrick) (8.2.0)\n",
      "Requirement already satisfied: joblib>=0.11 in c:\\users\\vitya\\anaconda3\\lib\\site-packages (from scikit-learn>=0.20->yellowbrick) (1.0.1)\n",
      "Requirement already satisfied: threadpoolctl>=2.0.0 in c:\\users\\vitya\\anaconda3\\lib\\site-packages (from scikit-learn>=0.20->yellowbrick) (2.1.0)\n"
     ]
    }
   ],
   "source": [
    "#!pip install yellowbrick"
   ]
  },
  {
   "cell_type": "code",
   "execution_count": 48,
   "id": "63aacbc6",
   "metadata": {},
   "outputs": [
    {
     "ename": "KeyboardInterrupt",
     "evalue": "",
     "output_type": "error",
     "traceback": [
      "\u001b[1;31m---------------------------------------------------------------------------\u001b[0m",
      "\u001b[1;31mKeyboardInterrupt\u001b[0m                         Traceback (most recent call last)",
      "\u001b[1;32m<__array_function__ internals>\u001b[0m in \u001b[0;36mwhere\u001b[1;34m(*args, **kwargs)\u001b[0m\n",
      "\u001b[1;31mKeyboardInterrupt\u001b[0m: "
     ]
    },
    {
     "name": "stderr",
     "output_type": "stream",
     "text": [
      "Exception ignored in: 'sklearn.cluster._k_means_fast._relocate_empty_clusters_dense'\n",
      "Traceback (most recent call last):\n",
      "  File \"<__array_function__ internals>\", line 2, in where\n",
      "KeyboardInterrupt: \n"
     ]
    },
    {
     "data": {
      "image/png": "[encoded data removed]",
      "text/plain": [
       "<Figure size 576x396 with 2 Axes>"
      ]
     },
     "metadata": {},
     "output_type": "display_data"
    },
    {
     "data": {
      "text/plain": [
       "<AxesSubplot:title={'center':'Distortion Score Elbow for KMeans Clustering'}, xlabel='k', ylabel='distortion score'>"
      ]
     },
     "execution_count": 48,
     "metadata": {},
     "output_type": "execute_result"
    }
   ],
   "source": [
    "from yellowbrick.cluster import KElbowVisualizer\n",
    "# Instantiate the clustering model and visualizer\n",
    "model = KMeans()\n",
    "visualizer = KElbowVisualizer(model, k=(1,12))\n",
    "visualizer.fit(data[['Recency', 'Frequency', 'Monetory']]) # Fit the data to the visualizer\n",
    "visualizer.show() # Finalize and render the figure"
   ]
  },
  {
   "cell_type": "markdown",
   "id": "medium-saskatchewan",
   "metadata": {},
   "source": [
    "### 2.5. Сегментация при помощи K-Means:"
   ]
  },
  {
   "cell_type": "code",
   "execution_count": 37,
   "id": "enabling-colombia",
   "metadata": {
    "code_folding": []
   },
   "outputs": [],
   "source": [
    "#rfm_knn\n",
    "def rfm_knn(rfm_data: pd.DataFrame() = None, metrics: list() = None, name: str = '', n_clusters: int = 4):\n",
    "    if rfm_data is None:\n",
    "        return None\n",
    "    if metrics is None:\n",
    "        metrics = rfm_data.columns[1:]\n",
    "    # Сlustering\n",
    "    Recency, Frequency, Monetary = metrics\n",
    "\n",
    "    kmeans_clusters = KMeans(n_clusters=n_clusters, init='k-means++', max_iter=300, random_state=0)\n",
    "    kmeans_clusters.fit(rfm_data[[Recency]].dropna().astype('int64'))\n",
    "    rfm_data['R_Cluster'] = kmeans_clusters.labels_+1\n",
    "\n",
    "    kmeans_clusters = KMeans(n_clusters=n_clusters, init='k-means++', max_iter=300, random_state=0)\n",
    "    kmeans_clusters.fit(rfm_data[[Frequency]].dropna().astype('int64'))\n",
    "    rfm_data['F_Cluster'] = kmeans_clusters.labels_+1\n",
    "\n",
    "    kmeans_clusters = KMeans(n_clusters=n_clusters, init='k-means++', max_iter=300, random_state=0)\n",
    "    kmeans_clusters.fit(rfm_data[[Monetary]].dropna().astype('int64'))\n",
    "    rfm_data['M_Cluster'] = kmeans_clusters.labels_+1\n",
    "\n",
    "    kmeans_clusters = KMeans(n_clusters=n_clusters, init='k-means++', max_iter=300, random_state=0)\n",
    "    kmeans_clusters.fit(rfm_data[metrics].dropna().astype('int64'))\n",
    "    # Assign the clusters to data\n",
    "    rfm_data['K_Cluster'] = kmeans_clusters.labels_+1\n",
    "    return rfm_data"
   ]
  },
  {
   "cell_type": "code",
   "execution_count": 43,
   "id": "b5724cbd",
   "metadata": {},
   "outputs": [],
   "source": [
    "result = rfm_knn(data_transformed[['user_id', 'Recency', 'Frequency', 'Monetory']])"
   ]
  },
  {
   "cell_type": "code",
   "execution_count": 44,
   "id": "balanced-trauma",
   "metadata": {},
   "outputs": [
    {
     "data": {
      "text/html": [
       "<div>\n",
       "<style scoped>\n",
       "    .dataframe tbody tr th:only-of-type {\n",
       "        vertical-align: middle;\n",
       "    }\n",
       "\n",
       "    .dataframe tbody tr th {\n",
       "        vertical-align: top;\n",
       "    }\n",
       "\n",
       "    .dataframe thead th {\n",
       "        text-align: right;\n",
       "    }\n",
       "</style>\n",
       "<table border=\"1\" class=\"dataframe\">\n",
       "  <thead>\n",
       "    <tr style=\"text-align: right;\">\n",
       "      <th></th>\n",
       "      <th>user_id</th>\n",
       "      <th>Recency</th>\n",
       "      <th>Frequency</th>\n",
       "      <th>Monetory</th>\n",
       "      <th>R_Cluster</th>\n",
       "      <th>F_Cluster</th>\n",
       "      <th>M_Cluster</th>\n",
       "      <th>K_Cluster</th>\n",
       "    </tr>\n",
       "  </thead>\n",
       "  <tbody>\n",
       "    <tr>\n",
       "      <th>0</th>\n",
       "      <td>9dea0a456345c6f66337bdb92934f552</td>\n",
       "      <td>0.385971</td>\n",
       "      <td>1.323772</td>\n",
       "      <td>1.200623</td>\n",
       "      <td>2</td>\n",
       "      <td>1</td>\n",
       "      <td>3</td>\n",
       "      <td>2</td>\n",
       "    </tr>\n",
       "    <tr>\n",
       "      <th>1</th>\n",
       "      <td>8def67d5d76ce2872ac16b7693f10313</td>\n",
       "      <td>1.821586</td>\n",
       "      <td>0.021311</td>\n",
       "      <td>0.293794</td>\n",
       "      <td>3</td>\n",
       "      <td>2</td>\n",
       "      <td>1</td>\n",
       "      <td>4</td>\n",
       "    </tr>\n",
       "    <tr>\n",
       "      <th>2</th>\n",
       "      <td>389381cff07efe5833fac9ede610fea8</td>\n",
       "      <td>0.385971</td>\n",
       "      <td>0.021311</td>\n",
       "      <td>1.200623</td>\n",
       "      <td>2</td>\n",
       "      <td>2</td>\n",
       "      <td>3</td>\n",
       "      <td>2</td>\n",
       "    </tr>\n",
       "    <tr>\n",
       "      <th>3</th>\n",
       "      <td>95a4636240488fda6b7f0498de5924ae</td>\n",
       "      <td>0.385971</td>\n",
       "      <td>0.021311</td>\n",
       "      <td>-0.613034</td>\n",
       "      <td>2</td>\n",
       "      <td>2</td>\n",
       "      <td>1</td>\n",
       "      <td>4</td>\n",
       "    </tr>\n",
       "    <tr>\n",
       "      <th>4</th>\n",
       "      <td>76978d5e13d9daee315d8d062ed15901</td>\n",
       "      <td>-1.049644</td>\n",
       "      <td>-1.281150</td>\n",
       "      <td>-1.519863</td>\n",
       "      <td>1</td>\n",
       "      <td>3</td>\n",
       "      <td>4</td>\n",
       "      <td>3</td>\n",
       "    </tr>\n",
       "  </tbody>\n",
       "</table>\n",
       "</div>"
      ],
      "text/plain": [
       "                            user_id   Recency  Frequency  Monetory  R_Cluster  \\\n",
       "0  9dea0a456345c6f66337bdb92934f552  0.385971   1.323772  1.200623          2   \n",
       "1  8def67d5d76ce2872ac16b7693f10313  1.821586   0.021311  0.293794          3   \n",
       "2  389381cff07efe5833fac9ede610fea8  0.385971   0.021311  1.200623          2   \n",
       "3  95a4636240488fda6b7f0498de5924ae  0.385971   0.021311 -0.613034          2   \n",
       "4  76978d5e13d9daee315d8d062ed15901 -1.049644  -1.281150 -1.519863          1   \n",
       "\n",
       "   F_Cluster  M_Cluster  K_Cluster  \n",
       "0          1          3          2  \n",
       "1          2          1          4  \n",
       "2          2          3          2  \n",
       "3          2          1          4  \n",
       "4          3          4          3  "
      ]
     },
     "execution_count": 44,
     "metadata": {},
     "output_type": "execute_result"
    }
   ],
   "source": [
    "result.head()"
   ]
  },
  {
   "cell_type": "code",
   "execution_count": 45,
   "id": "later-julian",
   "metadata": {},
   "outputs": [
    {
     "data": {
      "text/html": [
       "<div>\n",
       "<style scoped>\n",
       "    .dataframe tbody tr th:only-of-type {\n",
       "        vertical-align: middle;\n",
       "    }\n",
       "\n",
       "    .dataframe tbody tr th {\n",
       "        vertical-align: top;\n",
       "    }\n",
       "\n",
       "    .dataframe thead th {\n",
       "        text-align: right;\n",
       "    }\n",
       "</style>\n",
       "<table border=\"1\" class=\"dataframe\">\n",
       "  <thead>\n",
       "    <tr style=\"text-align: right;\">\n",
       "      <th>F_Cluster</th>\n",
       "      <th>1</th>\n",
       "      <th>2</th>\n",
       "      <th>3</th>\n",
       "      <th>4</th>\n",
       "    </tr>\n",
       "    <tr>\n",
       "      <th>R_Cluster</th>\n",
       "      <th></th>\n",
       "      <th></th>\n",
       "      <th></th>\n",
       "      <th></th>\n",
       "    </tr>\n",
       "  </thead>\n",
       "  <tbody>\n",
       "    <tr>\n",
       "      <th>1</th>\n",
       "      <td>70650</td>\n",
       "      <td>104080</td>\n",
       "      <td>24639</td>\n",
       "      <td>3650</td>\n",
       "    </tr>\n",
       "    <tr>\n",
       "      <th>2</th>\n",
       "      <td>26192</td>\n",
       "      <td>140907</td>\n",
       "      <td>45526</td>\n",
       "      <td>8328</td>\n",
       "    </tr>\n",
       "    <tr>\n",
       "      <th>3</th>\n",
       "      <td>1673</td>\n",
       "      <td>46465</td>\n",
       "      <td>19430</td>\n",
       "      <td>4146</td>\n",
       "    </tr>\n",
       "    <tr>\n",
       "      <th>4</th>\n",
       "      <td>104</td>\n",
       "      <td>63</td>\n",
       "      <td>10</td>\n",
       "      <td>2</td>\n",
       "    </tr>\n",
       "  </tbody>\n",
       "</table>\n",
       "</div>"
      ],
      "text/plain": [
       "F_Cluster      1       2      3     4\n",
       "R_Cluster                            \n",
       "1          70650  104080  24639  3650\n",
       "2          26192  140907  45526  8328\n",
       "3           1673   46465  19430  4146\n",
       "4            104      63     10     2"
      ]
     },
     "execution_count": 45,
     "metadata": {},
     "output_type": "execute_result"
    }
   ],
   "source": [
    "rfm_aggr = result[['user_id', 'R_Cluster', 'F_Cluster']].groupby(['R_Cluster', 'F_Cluster']).user_id.nunique().reset_index()\n",
    "rfm_pivot = rfm_aggr.pivot(values = 'user_id', index='R_Cluster', columns='F_Cluster')\n",
    "rfm_pivot"
   ]
  },
  {
   "cell_type": "code",
   "execution_count": 46,
   "id": "random-channel",
   "metadata": {},
   "outputs": [
    {
     "data": {
      "text/plain": [
       "<AxesSubplot:xlabel='F_Cluster', ylabel='R_Cluster'>"
      ]
     },
     "execution_count": 46,
     "metadata": {},
     "output_type": "execute_result"
    },
    {
     "data": {
      "image/png": "[encoded data removed]",
      "text/plain": [
       "<Figure size 432x288 with 2 Axes>"
      ]
     },
     "metadata": {
      "needs_background": "light"
     },
     "output_type": "display_data"
    }
   ],
   "source": [
    "sns.heatmap(rfm_pivot, annot=True, fmt=\".0f\")"
   ]
  },
  {
   "cell_type": "code",
   "execution_count": 47,
   "id": "frozen-childhood",
   "metadata": {},
   "outputs": [
    {
     "data": {
      "text/plain": [
       "<AxesSubplot:xlabel='F_Cluster', ylabel='R_Cluster'>"
      ]
     },
     "execution_count": 47,
     "metadata": {},
     "output_type": "execute_result"
    },
    {
     "data": {
      "image/png": "[encoded data removed]",
      "text/plain": [
       "<Figure size 432x288 with 2 Axes>"
      ]
     },
     "metadata": {
      "needs_background": "light"
     },
     "output_type": "display_data"
    }
   ],
   "source": [
    "rfm_aggr['users_share'] = rfm_aggr['user_id']*1.0/rfm_aggr['user_id'].sum()*100.0\n",
    "sns.heatmap(rfm_aggr.pivot(values = 'users_share', index='R_Cluster', columns='F_Cluster'), annot=True, fmt=\".3g\")"
   ]
  },
  {
   "cell_type": "markdown",
   "id": "da84e74e",
   "metadata": {},
   "source": [
    "Проанализируем каруту пользователей при использовании алгиритма кластеризации kmeans:\n",
    "\n",
    "-процентное соотношение пользователей в каждом из кластеров поменялось, однако при рассмотрении пользователей 'по группам' их соотношении практически не изменилось:\n",
    "\n",
    "а) кол-во спящих пользователей составляет ~26% (квантильный RFM: ~%)\n",
    "\n",
    "б) кол-во пользователей оттока составляет ~14% (квантильный RFM: ~%)\n",
    "\n",
    "в) кол-во пользователей группы риска состоялвет ~5% (квантильный RFM: ~%)\n",
    "\n",
    "г) кол-во лояльных пользователей ~0.5%! (квантильный RFM: ~%)\n",
    "\n",
    "д) кол-во перспективынх пользователей ~52% (квантильный RFM: ~%)\n",
    " \n",
    "e) кол-во новых пользователей ~1% (квантильный RFM: ~%)\n",
    "\n",
    "Видим, что значительная разница по сравнению с квантильным RFM проявляется только в группе лояльных пользователей. Остальные группы имеют такое же соотношение пользователей, как и в первом варианте кластеризации. Таким образом, можно для данного случая можно дать аналогичные рекомендации, что были представленны выше."
   ]
  },
  {
   "cell_type": "markdown",
   "id": "d6d83ca7",
   "metadata": {},
   "source": [
    "### Вывод.\n",
    "\n",
    "В целом, наш магазин находится в благополочном состоянии: имеется большая доля потенциальных клиентов, которые в дальнейшем могут стать нашими постоянными клиентами.\n",
    "\n",
    "Однако, очень мало значение новых пользователей. Необходимо поработать над их привлечением.\n",
    "\n",
    "Количество пользователей оттока и риска не особо большое, но нужно парботать с ними, чтобы вернуть клиентов обратно.\n",
    "\n",
    "Чуть больше спящих клентов, для них также необходимо предпринять действия для того,чтобы они перешли в группу постоянных клиентов."
   ]
  },
  {
   "cell_type": "code",
   "execution_count": null,
   "id": "f3f77278",
   "metadata": {},
   "outputs": [],
   "source": []
  }
 ],
 "metadata": {
  "kernelspec": {
   "display_name": "Python 3",
   "language": "python",
   "name": "python3"
  },
  "language_info": {
   "codemirror_mode": {
    "name": "ipython",
    "version": 3
   },
   "file_extension": ".py",
   "mimetype": "text/x-python",
   "name": "python",
   "nbconvert_exporter": "python",
   "pygments_lexer": "ipython3",
   "version": "3.8.8"
  },
  "toc": {
   "base_numbering": 1,
   "nav_menu": {},
   "number_sections": true,
   "sideBar": true,
   "skip_h1_title": false,
   "title_cell": "Table of Contents",
   "title_sidebar": "Contents",
   "toc_cell": false,
   "toc_position": {},
   "toc_section_display": true,
   "toc_window_display": false
  }
 },
 "nbformat": 4,
 "nbformat_minor": 5
}
